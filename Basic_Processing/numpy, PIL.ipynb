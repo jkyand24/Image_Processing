{
 "cells": [
  {
   "cell_type": "code",
   "execution_count": 2,
   "metadata": {},
   "outputs": [
    {
     "name": "stdout",
     "output_type": "stream",
     "text": [
      "img:\n",
      " <PIL.Image.Image image mode=L size=310x162 at 0x272AA931E50>\n",
      "img_array:\n",
      " [[222 222 222 ... 169 169 169]\n",
      " [223 223 223 ... 168 168 168]\n",
      " [223 223 223 ... 165 165 165]\n",
      " ...\n",
      " [219 219 222 ... 235 234 234]\n",
      " [221 222 224 ... 236 236 235]\n",
      " [221 222 224 ... 236 236 235]]\n",
      "img_array:\n",
      " [[222 222 222 ... 169 169 169]\n",
      " [223 223 223 ... 168 168 168]\n",
      " [223 223 223 ... 165 165 165]\n",
      " ...\n",
      " [219 219 222 ... 235 234 234]\n",
      " [221 222 224 ... 236 236 235]\n",
      " [221 222 224 ... 236 236 235]]\n",
      "img:\n",
      " <PIL.Image.Image image mode=L size=310x162 at 0x272AA7EA490>\n",
      "numpy.save() 함수로 저장한 파일 크기: 50348 bytes\n",
      "PIL.Image.fromarray() 함수로 저장한 파일 크기: 26813 bytes\n"
     ]
    }
   ],
   "source": [
    "import numpy as np\n",
    "from PIL import Image\n",
    "import os\n",
    "\n",
    "# 파일 -> 객체\n",
    "img = Image.open('./data/cat.png').convert('L')\n",
    "print(\"img:\\n\", img)\n",
    "# 객체 -> array\n",
    "img_array = np.array(img)\n",
    "print(\"img_array:\\n\", img_array)\n",
    "# array -> 파일\n",
    "np.save('./data/lena_numpy', img_array)\n",
    "\n",
    "# 파일 -> array\n",
    "img_array = np.load('./data/lena_numpy.npy')\n",
    "print(\"img_array:\\n\", img_array)\n",
    "# array -> 객체\n",
    "img = Image.fromarray(np.uint8(img_array))\n",
    "print(\"img:\\n\", img)\n",
    "# 객체 -> 파일\n",
    "img.save('./data/lena_pil.png')\n",
    "\n",
    "np_save_size = os.path.getsize('./data/lena_numpy.npy')\n",
    "pil_save_size = os.path.getsize('./data/lena_pil.png')\n",
    "\n",
    "print(f\"numpy.save() 함수로 저장한 파일 크기: {np_save_size} bytes\")\n",
    "print(f\"PIL.Image.fromarray() 함수로 저장한 파일 크기: {pil_save_size} bytes\")"
   ]
  },
  {
   "cell_type": "code",
   "execution_count": 3,
   "metadata": {},
   "outputs": [
    {
     "data": {
      "text/plain": [
       "'4.5.5'"
      ]
     },
     "execution_count": 3,
     "metadata": {},
     "output_type": "execute_result"
    }
   ],
   "source": [
    "import cv2\n",
    "cv2.__version__"
   ]
  }
 ],
 "metadata": {
  "kernelspec": {
   "display_name": "AI",
   "language": "python",
   "name": "ai"
  },
  "language_info": {
   "codemirror_mode": {
    "name": "ipython",
    "version": 3
   },
   "file_extension": ".py",
   "mimetype": "text/x-python",
   "name": "python",
   "nbconvert_exporter": "python",
   "pygments_lexer": "ipython3",
   "version": "3.8.16"
  },
  "orig_nbformat": 4
 },
 "nbformat": 4,
 "nbformat_minor": 2
}
